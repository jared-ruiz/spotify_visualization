{
 "cells": [
  {
   "cell_type": "code",
   "execution_count": 52,
   "id": "dbcdf6d7-4eab-46e3-90e2-3e9cc8682a7c",
   "metadata": {},
   "outputs": [],
   "source": [
    "import pandas as pd"
   ]
  },
  {
   "cell_type": "code",
   "execution_count": 63,
   "id": "1705e9ee-d2c0-42d8-aea0-f8fe3ba20a58",
   "metadata": {},
   "outputs": [],
   "source": [
    "import json"
   ]
  },
  {
   "cell_type": "code",
   "execution_count": null,
   "id": "35e9706a-a309-4ece-8f20-29617ad434dc",
   "metadata": {},
   "outputs": [],
   "source": [
    "# allows pandas to full extend the column output for max viewing"
   ]
  },
  {
   "cell_type": "code",
   "execution_count": 69,
   "id": "cf49360d-5c04-4a21-8d0a-07ae29dd3e21",
   "metadata": {},
   "outputs": [],
   "source": [
    "pd.set_option(\"display.max_columns\", None)\n",
    "pd.set_option(\"display.expand_frame_repr\", False)\n",
    "pd.set_option(\"display.width\", None)"
   ]
  },
  {
   "cell_type": "code",
   "execution_count": 70,
   "id": "587f9daa-1de0-4656-a016-1b903db2425d",
   "metadata": {},
   "outputs": [],
   "source": [
    "data_file = \"./json_data/StreamingHistory_music_0.json\""
   ]
  },
  {
   "cell_type": "code",
   "execution_count": 71,
   "id": "30608f5a-16df-4ae6-a4dd-281f518c83c4",
   "metadata": {},
   "outputs": [
    {
     "name": "stdout",
     "output_type": "stream",
     "text": [
      "               endTime                 artistName                                          trackName  msPlayed\n",
      "0     2024-06-20 00:58                 The Garden                                 Filthy Rabbit Hole    159740\n",
      "1     2024-06-23 00:19              Future Magics                                      High With You     22507\n",
      "2     2024-06-23 00:31                 Effoharkay                                            For Now    175000\n",
      "3     2024-06-23 00:36                    on4word                                    Alberto Balsalm    303571\n",
      "4     2024-06-23 00:38                 Windows 96                                        Victim Less    131633\n",
      "...                ...                        ...                                                ...       ...\n",
      "6555  2025-06-23 21:29                 essenceォ液ー                      Online Shopping | オンラインショッピング    206778\n",
      "6556  2025-06-23 21:31                 Vaporwavez                  Advanced Shopping Mall Technology    162000\n",
      "6557  2025-06-23 21:34                 SPORTSGIRL                                          Hydration    152693\n",
      "6558  2025-06-23 23:54  L a z u l i _ y e l l o w                                Spanish Pizza Class     54470\n",
      "6559  2025-06-23 23:57                John Powell  Test Drive - From How To Train Your Dragon Mus...    146840\n",
      "\n",
      "[6560 rows x 4 columns]\n"
     ]
    }
   ],
   "source": [
    "with open(data_file, \"r\", encoding=\"utf-8\") as d:\n",
    "    initial_data = json.load(d)\n",
    "    df = pd.DataFrame(initial_data)\n",
    "\n",
    "    print(df)"
   ]
  },
  {
   "cell_type": "code",
   "execution_count": null,
   "id": "d03afc19-1165-41d5-98e5-967a05503797",
   "metadata": {},
   "outputs": [],
   "source": []
  },
  {
   "cell_type": "code",
   "execution_count": null,
   "id": "2792eaae-061c-4395-96e6-050880d652e9",
   "metadata": {},
   "outputs": [],
   "source": []
  },
  {
   "cell_type": "code",
   "execution_count": null,
   "id": "2a5fb3db-fd1e-490b-83e5-7f4452329228",
   "metadata": {},
   "outputs": [],
   "source": []
  },
  {
   "cell_type": "code",
   "execution_count": null,
   "id": "29722d35-7da1-4fb8-b1af-203dd4acd5c8",
   "metadata": {},
   "outputs": [],
   "source": []
  },
  {
   "cell_type": "code",
   "execution_count": null,
   "id": "c5912930-da6d-4f4f-b534-dfe5c19814e1",
   "metadata": {},
   "outputs": [],
   "source": []
  },
  {
   "cell_type": "code",
   "execution_count": null,
   "id": "c3c4bd77-dec1-4e8c-98ea-9bab10879f85",
   "metadata": {},
   "outputs": [],
   "source": []
  },
  {
   "cell_type": "code",
   "execution_count": null,
   "id": "b20080ec-f931-4c83-b642-06b569c2a7d5",
   "metadata": {},
   "outputs": [],
   "source": []
  }
 ],
 "metadata": {
  "kernelspec": {
   "display_name": "Python 3 (ipykernel)",
   "language": "python",
   "name": "python3"
  },
  "language_info": {
   "codemirror_mode": {
    "name": "ipython",
    "version": 3
   },
   "file_extension": ".py",
   "mimetype": "text/x-python",
   "name": "python",
   "nbconvert_exporter": "python",
   "pygments_lexer": "ipython3",
   "version": "3.13.3"
  }
 },
 "nbformat": 4,
 "nbformat_minor": 5
}
