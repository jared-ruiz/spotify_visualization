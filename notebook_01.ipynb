{
 "cells": [
  {
   "cell_type": "code",
   "execution_count": 67,
   "id": "7c1eb01b-aa8c-45a1-a04c-c769607412af",
   "metadata": {},
   "outputs": [],
   "source": [
    "# import pandas"
   ]
  },
  {
   "cell_type": "code",
   "execution_count": 68,
   "id": "3aadd397-7f99-4ea7-9b9b-6be51f85dfb0",
   "metadata": {},
   "outputs": [],
   "source": [
    "import pandas as pd"
   ]
  },
  {
   "cell_type": "code",
   "execution_count": 69,
   "id": "09bd2cf6-b331-4461-b6a0-50fb83f47861",
   "metadata": {},
   "outputs": [],
   "source": [
    "# create dataframe off of json file"
   ]
  },
  {
   "cell_type": "code",
   "execution_count": 70,
   "id": "5ce9d97d-59e8-49d8-9960-02279ca61873",
   "metadata": {},
   "outputs": [],
   "source": [
    "df = pd.read_json('./json_data/StreamingHistory_music_0.json')"
   ]
  },
  {
   "cell_type": "code",
   "execution_count": 71,
   "id": "1ee5a8b5-416d-494a-b2e8-d4155b753c30",
   "metadata": {},
   "outputs": [
    {
     "data": {
      "text/html": [
       "<div>\n",
       "<style scoped>\n",
       "    .dataframe tbody tr th:only-of-type {\n",
       "        vertical-align: middle;\n",
       "    }\n",
       "\n",
       "    .dataframe tbody tr th {\n",
       "        vertical-align: top;\n",
       "    }\n",
       "\n",
       "    .dataframe thead th {\n",
       "        text-align: right;\n",
       "    }\n",
       "</style>\n",
       "<table border=\"1\" class=\"dataframe\">\n",
       "  <thead>\n",
       "    <tr style=\"text-align: right;\">\n",
       "      <th></th>\n",
       "      <th>endTime</th>\n",
       "      <th>artistName</th>\n",
       "      <th>trackName</th>\n",
       "      <th>msPlayed</th>\n",
       "    </tr>\n",
       "  </thead>\n",
       "  <tbody>\n",
       "    <tr>\n",
       "      <th>0</th>\n",
       "      <td>2024-06-20 00:58</td>\n",
       "      <td>The Garden</td>\n",
       "      <td>Filthy Rabbit Hole</td>\n",
       "      <td>159740</td>\n",
       "    </tr>\n",
       "    <tr>\n",
       "      <th>1</th>\n",
       "      <td>2024-06-23 00:19</td>\n",
       "      <td>Future Magics</td>\n",
       "      <td>High With You</td>\n",
       "      <td>22507</td>\n",
       "    </tr>\n",
       "    <tr>\n",
       "      <th>2</th>\n",
       "      <td>2024-06-23 00:31</td>\n",
       "      <td>Effoharkay</td>\n",
       "      <td>For Now</td>\n",
       "      <td>175000</td>\n",
       "    </tr>\n",
       "    <tr>\n",
       "      <th>3</th>\n",
       "      <td>2024-06-23 00:36</td>\n",
       "      <td>on4word</td>\n",
       "      <td>Alberto Balsalm</td>\n",
       "      <td>303571</td>\n",
       "    </tr>\n",
       "    <tr>\n",
       "      <th>4</th>\n",
       "      <td>2024-06-23 00:38</td>\n",
       "      <td>Windows 96</td>\n",
       "      <td>Victim Less</td>\n",
       "      <td>131633</td>\n",
       "    </tr>\n",
       "    <tr>\n",
       "      <th>...</th>\n",
       "      <td>...</td>\n",
       "      <td>...</td>\n",
       "      <td>...</td>\n",
       "      <td>...</td>\n",
       "    </tr>\n",
       "    <tr>\n",
       "      <th>6555</th>\n",
       "      <td>2025-06-23 21:29</td>\n",
       "      <td>essenceォ液ー</td>\n",
       "      <td>Online Shopping | オンラインショッピング</td>\n",
       "      <td>206778</td>\n",
       "    </tr>\n",
       "    <tr>\n",
       "      <th>6556</th>\n",
       "      <td>2025-06-23 21:31</td>\n",
       "      <td>Vaporwavez</td>\n",
       "      <td>Advanced Shopping Mall Technology</td>\n",
       "      <td>162000</td>\n",
       "    </tr>\n",
       "    <tr>\n",
       "      <th>6557</th>\n",
       "      <td>2025-06-23 21:34</td>\n",
       "      <td>SPORTSGIRL</td>\n",
       "      <td>Hydration</td>\n",
       "      <td>152693</td>\n",
       "    </tr>\n",
       "    <tr>\n",
       "      <th>6558</th>\n",
       "      <td>2025-06-23 23:54</td>\n",
       "      <td>L a z u l i _ y e l l o w</td>\n",
       "      <td>Spanish Pizza Class</td>\n",
       "      <td>54470</td>\n",
       "    </tr>\n",
       "    <tr>\n",
       "      <th>6559</th>\n",
       "      <td>2025-06-23 23:57</td>\n",
       "      <td>John Powell</td>\n",
       "      <td>Test Drive - From How To Train Your Dragon Mus...</td>\n",
       "      <td>146840</td>\n",
       "    </tr>\n",
       "  </tbody>\n",
       "</table>\n",
       "<p>6560 rows × 4 columns</p>\n",
       "</div>"
      ],
      "text/plain": [
       "               endTime                 artistName  \\\n",
       "0     2024-06-20 00:58                 The Garden   \n",
       "1     2024-06-23 00:19              Future Magics   \n",
       "2     2024-06-23 00:31                 Effoharkay   \n",
       "3     2024-06-23 00:36                    on4word   \n",
       "4     2024-06-23 00:38                 Windows 96   \n",
       "...                ...                        ...   \n",
       "6555  2025-06-23 21:29                 essenceォ液ー   \n",
       "6556  2025-06-23 21:31                 Vaporwavez   \n",
       "6557  2025-06-23 21:34                 SPORTSGIRL   \n",
       "6558  2025-06-23 23:54  L a z u l i _ y e l l o w   \n",
       "6559  2025-06-23 23:57                John Powell   \n",
       "\n",
       "                                              trackName  msPlayed  \n",
       "0                                    Filthy Rabbit Hole    159740  \n",
       "1                                         High With You     22507  \n",
       "2                                               For Now    175000  \n",
       "3                                       Alberto Balsalm    303571  \n",
       "4                                           Victim Less    131633  \n",
       "...                                                 ...       ...  \n",
       "6555                      Online Shopping | オンラインショッピング    206778  \n",
       "6556                  Advanced Shopping Mall Technology    162000  \n",
       "6557                                          Hydration    152693  \n",
       "6558                                Spanish Pizza Class     54470  \n",
       "6559  Test Drive - From How To Train Your Dragon Mus...    146840  \n",
       "\n",
       "[6560 rows x 4 columns]"
      ]
     },
     "execution_count": 71,
     "metadata": {},
     "output_type": "execute_result"
    }
   ],
   "source": [
    "df"
   ]
  },
  {
   "cell_type": "code",
   "execution_count": 72,
   "id": "2b3f7bdc-d13e-4a13-870d-f21b0d59a25c",
   "metadata": {},
   "outputs": [],
   "source": [
    "# Adjust dataframe columns"
   ]
  },
  {
   "cell_type": "code",
   "execution_count": 73,
   "id": "fd4b1aca-22d2-4b03-82cc-64dc24545031",
   "metadata": {},
   "outputs": [],
   "source": [
    "df = df.rename(columns={\n",
    "    'endTime': 'End_Time',\n",
    "     'artistName': 'Artist',\n",
    "     'trackName': 'Track',\n",
    "     'msPlayed': 'Seconds_Played'\n",
    "     })"
   ]
  },
  {
   "cell_type": "code",
   "execution_count": 74,
   "id": "04e31e26-0b75-4def-8fd5-18a991ab4276",
   "metadata": {},
   "outputs": [
    {
     "data": {
      "text/html": [
       "<div>\n",
       "<style scoped>\n",
       "    .dataframe tbody tr th:only-of-type {\n",
       "        vertical-align: middle;\n",
       "    }\n",
       "\n",
       "    .dataframe tbody tr th {\n",
       "        vertical-align: top;\n",
       "    }\n",
       "\n",
       "    .dataframe thead th {\n",
       "        text-align: right;\n",
       "    }\n",
       "</style>\n",
       "<table border=\"1\" class=\"dataframe\">\n",
       "  <thead>\n",
       "    <tr style=\"text-align: right;\">\n",
       "      <th></th>\n",
       "      <th>End_Time</th>\n",
       "      <th>Artist</th>\n",
       "      <th>Track</th>\n",
       "      <th>Seconds_Played</th>\n",
       "    </tr>\n",
       "  </thead>\n",
       "  <tbody>\n",
       "    <tr>\n",
       "      <th>0</th>\n",
       "      <td>2024-06-20 00:58</td>\n",
       "      <td>The Garden</td>\n",
       "      <td>Filthy Rabbit Hole</td>\n",
       "      <td>159740</td>\n",
       "    </tr>\n",
       "    <tr>\n",
       "      <th>1</th>\n",
       "      <td>2024-06-23 00:19</td>\n",
       "      <td>Future Magics</td>\n",
       "      <td>High With You</td>\n",
       "      <td>22507</td>\n",
       "    </tr>\n",
       "    <tr>\n",
       "      <th>2</th>\n",
       "      <td>2024-06-23 00:31</td>\n",
       "      <td>Effoharkay</td>\n",
       "      <td>For Now</td>\n",
       "      <td>175000</td>\n",
       "    </tr>\n",
       "    <tr>\n",
       "      <th>3</th>\n",
       "      <td>2024-06-23 00:36</td>\n",
       "      <td>on4word</td>\n",
       "      <td>Alberto Balsalm</td>\n",
       "      <td>303571</td>\n",
       "    </tr>\n",
       "    <tr>\n",
       "      <th>4</th>\n",
       "      <td>2024-06-23 00:38</td>\n",
       "      <td>Windows 96</td>\n",
       "      <td>Victim Less</td>\n",
       "      <td>131633</td>\n",
       "    </tr>\n",
       "    <tr>\n",
       "      <th>...</th>\n",
       "      <td>...</td>\n",
       "      <td>...</td>\n",
       "      <td>...</td>\n",
       "      <td>...</td>\n",
       "    </tr>\n",
       "    <tr>\n",
       "      <th>6555</th>\n",
       "      <td>2025-06-23 21:29</td>\n",
       "      <td>essenceォ液ー</td>\n",
       "      <td>Online Shopping | オンラインショッピング</td>\n",
       "      <td>206778</td>\n",
       "    </tr>\n",
       "    <tr>\n",
       "      <th>6556</th>\n",
       "      <td>2025-06-23 21:31</td>\n",
       "      <td>Vaporwavez</td>\n",
       "      <td>Advanced Shopping Mall Technology</td>\n",
       "      <td>162000</td>\n",
       "    </tr>\n",
       "    <tr>\n",
       "      <th>6557</th>\n",
       "      <td>2025-06-23 21:34</td>\n",
       "      <td>SPORTSGIRL</td>\n",
       "      <td>Hydration</td>\n",
       "      <td>152693</td>\n",
       "    </tr>\n",
       "    <tr>\n",
       "      <th>6558</th>\n",
       "      <td>2025-06-23 23:54</td>\n",
       "      <td>L a z u l i _ y e l l o w</td>\n",
       "      <td>Spanish Pizza Class</td>\n",
       "      <td>54470</td>\n",
       "    </tr>\n",
       "    <tr>\n",
       "      <th>6559</th>\n",
       "      <td>2025-06-23 23:57</td>\n",
       "      <td>John Powell</td>\n",
       "      <td>Test Drive - From How To Train Your Dragon Mus...</td>\n",
       "      <td>146840</td>\n",
       "    </tr>\n",
       "  </tbody>\n",
       "</table>\n",
       "<p>6560 rows × 4 columns</p>\n",
       "</div>"
      ],
      "text/plain": [
       "              End_Time                     Artist  \\\n",
       "0     2024-06-20 00:58                 The Garden   \n",
       "1     2024-06-23 00:19              Future Magics   \n",
       "2     2024-06-23 00:31                 Effoharkay   \n",
       "3     2024-06-23 00:36                    on4word   \n",
       "4     2024-06-23 00:38                 Windows 96   \n",
       "...                ...                        ...   \n",
       "6555  2025-06-23 21:29                 essenceォ液ー   \n",
       "6556  2025-06-23 21:31                 Vaporwavez   \n",
       "6557  2025-06-23 21:34                 SPORTSGIRL   \n",
       "6558  2025-06-23 23:54  L a z u l i _ y e l l o w   \n",
       "6559  2025-06-23 23:57                John Powell   \n",
       "\n",
       "                                                  Track  Seconds_Played  \n",
       "0                                    Filthy Rabbit Hole          159740  \n",
       "1                                         High With You           22507  \n",
       "2                                               For Now          175000  \n",
       "3                                       Alberto Balsalm          303571  \n",
       "4                                           Victim Less          131633  \n",
       "...                                                 ...             ...  \n",
       "6555                      Online Shopping | オンラインショッピング          206778  \n",
       "6556                  Advanced Shopping Mall Technology          162000  \n",
       "6557                                          Hydration          152693  \n",
       "6558                                Spanish Pizza Class           54470  \n",
       "6559  Test Drive - From How To Train Your Dragon Mus...          146840  \n",
       "\n",
       "[6560 rows x 4 columns]"
      ]
     },
     "execution_count": 74,
     "metadata": {},
     "output_type": "execute_result"
    }
   ],
   "source": [
    "df"
   ]
  },
  {
   "cell_type": "code",
   "execution_count": 75,
   "id": "3a35e468-39b7-45dc-87bf-db6c0c786e44",
   "metadata": {},
   "outputs": [
    {
     "data": {
      "text/plain": [
       "End_Time          object\n",
       "Artist            object\n",
       "Track             object\n",
       "Seconds_Played     int64\n",
       "dtype: object"
      ]
     },
     "execution_count": 75,
     "metadata": {},
     "output_type": "execute_result"
    }
   ],
   "source": [
    "df.dtypes"
   ]
  },
  {
   "cell_type": "code",
   "execution_count": 76,
   "id": "37d3871a-9b38-4762-8f96-493bea3521d1",
   "metadata": {},
   "outputs": [],
   "source": [
    "# Change End_Time type from object to datatime object"
   ]
  },
  {
   "cell_type": "code",
   "execution_count": 77,
   "id": "01ea514b-f255-4021-a54e-3b58e6c193da",
   "metadata": {},
   "outputs": [],
   "source": [
    "df['End_Time'] = pd.to_datetime(df['End_Time'])"
   ]
  },
  {
   "cell_type": "code",
   "execution_count": 78,
   "id": "60560261-799a-411a-b562-6f7749dbfab5",
   "metadata": {},
   "outputs": [
    {
     "data": {
      "text/plain": [
       "End_Time          datetime64[ns]\n",
       "Artist                    object\n",
       "Track                     object\n",
       "Seconds_Played             int64\n",
       "dtype: object"
      ]
     },
     "execution_count": 78,
     "metadata": {},
     "output_type": "execute_result"
    }
   ],
   "source": [
    "df.dtypes"
   ]
  },
  {
   "cell_type": "code",
   "execution_count": 79,
   "id": "84d41940-0cf0-4bd9-98e8-94d955aacaa2",
   "metadata": {},
   "outputs": [],
   "source": [
    "# Test check for duplicate song instances"
   ]
  },
  {
   "cell_type": "code",
   "execution_count": 80,
   "id": "a14b6a77-f78a-44f7-9d48-60e6d4856960",
   "metadata": {},
   "outputs": [
    {
     "data": {
      "text/plain": [
       "End_Time          False\n",
       "Artist            False\n",
       "Track             False\n",
       "Seconds_Played    False\n",
       "dtype: bool"
      ]
     },
     "execution_count": 80,
     "metadata": {},
     "output_type": "execute_result"
    }
   ],
   "source": [
    "df.isnull().any()"
   ]
  },
  {
   "cell_type": "code",
   "execution_count": 81,
   "id": "2fee0051-af6e-48d0-81c5-1efcb3270c52",
   "metadata": {},
   "outputs": [
    {
     "data": {
      "text/html": [
       "<div>\n",
       "<style scoped>\n",
       "    .dataframe tbody tr th:only-of-type {\n",
       "        vertical-align: middle;\n",
       "    }\n",
       "\n",
       "    .dataframe tbody tr th {\n",
       "        vertical-align: top;\n",
       "    }\n",
       "\n",
       "    .dataframe thead th {\n",
       "        text-align: right;\n",
       "    }\n",
       "</style>\n",
       "<table border=\"1\" class=\"dataframe\">\n",
       "  <thead>\n",
       "    <tr style=\"text-align: right;\">\n",
       "      <th></th>\n",
       "      <th>End_Time</th>\n",
       "      <th>Artist</th>\n",
       "      <th>Track</th>\n",
       "      <th>Seconds_Played</th>\n",
       "    </tr>\n",
       "  </thead>\n",
       "  <tbody>\n",
       "    <tr>\n",
       "      <th>0</th>\n",
       "      <td>2024-06-20 00:58:00</td>\n",
       "      <td>The Garden</td>\n",
       "      <td>Filthy Rabbit Hole</td>\n",
       "      <td>159740</td>\n",
       "    </tr>\n",
       "    <tr>\n",
       "      <th>1</th>\n",
       "      <td>2024-06-23 00:19:00</td>\n",
       "      <td>Future Magics</td>\n",
       "      <td>High With You</td>\n",
       "      <td>22507</td>\n",
       "    </tr>\n",
       "    <tr>\n",
       "      <th>2</th>\n",
       "      <td>2024-06-23 00:31:00</td>\n",
       "      <td>Effoharkay</td>\n",
       "      <td>For Now</td>\n",
       "      <td>175000</td>\n",
       "    </tr>\n",
       "    <tr>\n",
       "      <th>3</th>\n",
       "      <td>2024-06-23 00:36:00</td>\n",
       "      <td>on4word</td>\n",
       "      <td>Alberto Balsalm</td>\n",
       "      <td>303571</td>\n",
       "    </tr>\n",
       "    <tr>\n",
       "      <th>4</th>\n",
       "      <td>2024-06-23 00:38:00</td>\n",
       "      <td>Windows 96</td>\n",
       "      <td>Victim Less</td>\n",
       "      <td>131633</td>\n",
       "    </tr>\n",
       "    <tr>\n",
       "      <th>...</th>\n",
       "      <td>...</td>\n",
       "      <td>...</td>\n",
       "      <td>...</td>\n",
       "      <td>...</td>\n",
       "    </tr>\n",
       "    <tr>\n",
       "      <th>6555</th>\n",
       "      <td>2025-06-23 21:29:00</td>\n",
       "      <td>essenceォ液ー</td>\n",
       "      <td>Online Shopping | オンラインショッピング</td>\n",
       "      <td>206778</td>\n",
       "    </tr>\n",
       "    <tr>\n",
       "      <th>6556</th>\n",
       "      <td>2025-06-23 21:31:00</td>\n",
       "      <td>Vaporwavez</td>\n",
       "      <td>Advanced Shopping Mall Technology</td>\n",
       "      <td>162000</td>\n",
       "    </tr>\n",
       "    <tr>\n",
       "      <th>6557</th>\n",
       "      <td>2025-06-23 21:34:00</td>\n",
       "      <td>SPORTSGIRL</td>\n",
       "      <td>Hydration</td>\n",
       "      <td>152693</td>\n",
       "    </tr>\n",
       "    <tr>\n",
       "      <th>6558</th>\n",
       "      <td>2025-06-23 23:54:00</td>\n",
       "      <td>L a z u l i _ y e l l o w</td>\n",
       "      <td>Spanish Pizza Class</td>\n",
       "      <td>54470</td>\n",
       "    </tr>\n",
       "    <tr>\n",
       "      <th>6559</th>\n",
       "      <td>2025-06-23 23:57:00</td>\n",
       "      <td>John Powell</td>\n",
       "      <td>Test Drive - From How To Train Your Dragon Mus...</td>\n",
       "      <td>146840</td>\n",
       "    </tr>\n",
       "  </tbody>\n",
       "</table>\n",
       "<p>6560 rows × 4 columns</p>\n",
       "</div>"
      ],
      "text/plain": [
       "                End_Time                     Artist  \\\n",
       "0    2024-06-20 00:58:00                 The Garden   \n",
       "1    2024-06-23 00:19:00              Future Magics   \n",
       "2    2024-06-23 00:31:00                 Effoharkay   \n",
       "3    2024-06-23 00:36:00                    on4word   \n",
       "4    2024-06-23 00:38:00                 Windows 96   \n",
       "...                  ...                        ...   \n",
       "6555 2025-06-23 21:29:00                 essenceォ液ー   \n",
       "6556 2025-06-23 21:31:00                 Vaporwavez   \n",
       "6557 2025-06-23 21:34:00                 SPORTSGIRL   \n",
       "6558 2025-06-23 23:54:00  L a z u l i _ y e l l o w   \n",
       "6559 2025-06-23 23:57:00                John Powell   \n",
       "\n",
       "                                                  Track  Seconds_Played  \n",
       "0                                    Filthy Rabbit Hole          159740  \n",
       "1                                         High With You           22507  \n",
       "2                                               For Now          175000  \n",
       "3                                       Alberto Balsalm          303571  \n",
       "4                                           Victim Less          131633  \n",
       "...                                                 ...             ...  \n",
       "6555                      Online Shopping | オンラインショッピング          206778  \n",
       "6556                  Advanced Shopping Mall Technology          162000  \n",
       "6557                                          Hydration          152693  \n",
       "6558                                Spanish Pizza Class           54470  \n",
       "6559  Test Drive - From How To Train Your Dragon Mus...          146840  \n",
       "\n",
       "[6560 rows x 4 columns]"
      ]
     },
     "execution_count": 81,
     "metadata": {},
     "output_type": "execute_result"
    }
   ],
   "source": [
    "df"
   ]
  },
  {
   "cell_type": "code",
   "execution_count": 82,
   "id": "b7d618b1-72dd-4150-9049-120d45503a5e",
   "metadata": {},
   "outputs": [],
   "source": [
    "# Change Seconds_Played to Actual Seconds"
   ]
  },
  {
   "cell_type": "code",
   "execution_count": 83,
   "id": "d379f279-5f5a-41ae-848e-b803e286e590",
   "metadata": {},
   "outputs": [],
   "source": [
    "df['Seconds_Played'] = df['Seconds_Played']/1000"
   ]
  },
  {
   "cell_type": "code",
   "execution_count": 84,
   "id": "8f88940b-d261-44a6-8663-863e9dd6bc97",
   "metadata": {},
   "outputs": [
    {
     "data": {
      "text/html": [
       "<div>\n",
       "<style scoped>\n",
       "    .dataframe tbody tr th:only-of-type {\n",
       "        vertical-align: middle;\n",
       "    }\n",
       "\n",
       "    .dataframe tbody tr th {\n",
       "        vertical-align: top;\n",
       "    }\n",
       "\n",
       "    .dataframe thead th {\n",
       "        text-align: right;\n",
       "    }\n",
       "</style>\n",
       "<table border=\"1\" class=\"dataframe\">\n",
       "  <thead>\n",
       "    <tr style=\"text-align: right;\">\n",
       "      <th></th>\n",
       "      <th>End_Time</th>\n",
       "      <th>Artist</th>\n",
       "      <th>Track</th>\n",
       "      <th>Seconds_Played</th>\n",
       "    </tr>\n",
       "  </thead>\n",
       "  <tbody>\n",
       "    <tr>\n",
       "      <th>0</th>\n",
       "      <td>2024-06-20 00:58:00</td>\n",
       "      <td>The Garden</td>\n",
       "      <td>Filthy Rabbit Hole</td>\n",
       "      <td>159.740</td>\n",
       "    </tr>\n",
       "    <tr>\n",
       "      <th>1</th>\n",
       "      <td>2024-06-23 00:19:00</td>\n",
       "      <td>Future Magics</td>\n",
       "      <td>High With You</td>\n",
       "      <td>22.507</td>\n",
       "    </tr>\n",
       "    <tr>\n",
       "      <th>2</th>\n",
       "      <td>2024-06-23 00:31:00</td>\n",
       "      <td>Effoharkay</td>\n",
       "      <td>For Now</td>\n",
       "      <td>175.000</td>\n",
       "    </tr>\n",
       "    <tr>\n",
       "      <th>3</th>\n",
       "      <td>2024-06-23 00:36:00</td>\n",
       "      <td>on4word</td>\n",
       "      <td>Alberto Balsalm</td>\n",
       "      <td>303.571</td>\n",
       "    </tr>\n",
       "    <tr>\n",
       "      <th>4</th>\n",
       "      <td>2024-06-23 00:38:00</td>\n",
       "      <td>Windows 96</td>\n",
       "      <td>Victim Less</td>\n",
       "      <td>131.633</td>\n",
       "    </tr>\n",
       "    <tr>\n",
       "      <th>...</th>\n",
       "      <td>...</td>\n",
       "      <td>...</td>\n",
       "      <td>...</td>\n",
       "      <td>...</td>\n",
       "    </tr>\n",
       "    <tr>\n",
       "      <th>6555</th>\n",
       "      <td>2025-06-23 21:29:00</td>\n",
       "      <td>essenceォ液ー</td>\n",
       "      <td>Online Shopping | オンラインショッピング</td>\n",
       "      <td>206.778</td>\n",
       "    </tr>\n",
       "    <tr>\n",
       "      <th>6556</th>\n",
       "      <td>2025-06-23 21:31:00</td>\n",
       "      <td>Vaporwavez</td>\n",
       "      <td>Advanced Shopping Mall Technology</td>\n",
       "      <td>162.000</td>\n",
       "    </tr>\n",
       "    <tr>\n",
       "      <th>6557</th>\n",
       "      <td>2025-06-23 21:34:00</td>\n",
       "      <td>SPORTSGIRL</td>\n",
       "      <td>Hydration</td>\n",
       "      <td>152.693</td>\n",
       "    </tr>\n",
       "    <tr>\n",
       "      <th>6558</th>\n",
       "      <td>2025-06-23 23:54:00</td>\n",
       "      <td>L a z u l i _ y e l l o w</td>\n",
       "      <td>Spanish Pizza Class</td>\n",
       "      <td>54.470</td>\n",
       "    </tr>\n",
       "    <tr>\n",
       "      <th>6559</th>\n",
       "      <td>2025-06-23 23:57:00</td>\n",
       "      <td>John Powell</td>\n",
       "      <td>Test Drive - From How To Train Your Dragon Mus...</td>\n",
       "      <td>146.840</td>\n",
       "    </tr>\n",
       "  </tbody>\n",
       "</table>\n",
       "<p>6560 rows × 4 columns</p>\n",
       "</div>"
      ],
      "text/plain": [
       "                End_Time                     Artist  \\\n",
       "0    2024-06-20 00:58:00                 The Garden   \n",
       "1    2024-06-23 00:19:00              Future Magics   \n",
       "2    2024-06-23 00:31:00                 Effoharkay   \n",
       "3    2024-06-23 00:36:00                    on4word   \n",
       "4    2024-06-23 00:38:00                 Windows 96   \n",
       "...                  ...                        ...   \n",
       "6555 2025-06-23 21:29:00                 essenceォ液ー   \n",
       "6556 2025-06-23 21:31:00                 Vaporwavez   \n",
       "6557 2025-06-23 21:34:00                 SPORTSGIRL   \n",
       "6558 2025-06-23 23:54:00  L a z u l i _ y e l l o w   \n",
       "6559 2025-06-23 23:57:00                John Powell   \n",
       "\n",
       "                                                  Track  Seconds_Played  \n",
       "0                                    Filthy Rabbit Hole         159.740  \n",
       "1                                         High With You          22.507  \n",
       "2                                               For Now         175.000  \n",
       "3                                       Alberto Balsalm         303.571  \n",
       "4                                           Victim Less         131.633  \n",
       "...                                                 ...             ...  \n",
       "6555                      Online Shopping | オンラインショッピング         206.778  \n",
       "6556                  Advanced Shopping Mall Technology         162.000  \n",
       "6557                                          Hydration         152.693  \n",
       "6558                                Spanish Pizza Class          54.470  \n",
       "6559  Test Drive - From How To Train Your Dragon Mus...         146.840  \n",
       "\n",
       "[6560 rows x 4 columns]"
      ]
     },
     "execution_count": 84,
     "metadata": {},
     "output_type": "execute_result"
    }
   ],
   "source": [
    "df"
   ]
  },
  {
   "cell_type": "code",
   "execution_count": 85,
   "id": "8352818b-7919-4efd-9743-df9d2aca838f",
   "metadata": {},
   "outputs": [
    {
     "data": {
      "text/html": [
       "<div>\n",
       "<style scoped>\n",
       "    .dataframe tbody tr th:only-of-type {\n",
       "        vertical-align: middle;\n",
       "    }\n",
       "\n",
       "    .dataframe tbody tr th {\n",
       "        vertical-align: top;\n",
       "    }\n",
       "\n",
       "    .dataframe thead th {\n",
       "        text-align: right;\n",
       "    }\n",
       "</style>\n",
       "<table border=\"1\" class=\"dataframe\">\n",
       "  <thead>\n",
       "    <tr style=\"text-align: right;\">\n",
       "      <th></th>\n",
       "      <th>End_Time</th>\n",
       "      <th>Artist</th>\n",
       "      <th>Track</th>\n",
       "      <th>Seconds_Played</th>\n",
       "    </tr>\n",
       "  </thead>\n",
       "  <tbody>\n",
       "    <tr>\n",
       "      <th>5872</th>\n",
       "      <td>2025-05-15 20:15:00</td>\n",
       "      <td>PinkPantheress</td>\n",
       "      <td>Nice to Know You</td>\n",
       "      <td>169.513</td>\n",
       "    </tr>\n",
       "    <tr>\n",
       "      <th>5952</th>\n",
       "      <td>2025-05-17 02:36:00</td>\n",
       "      <td>PinkPantheress</td>\n",
       "      <td>Nice to Know You</td>\n",
       "      <td>169.549</td>\n",
       "    </tr>\n",
       "    <tr>\n",
       "      <th>6520</th>\n",
       "      <td>2025-06-20 22:30:00</td>\n",
       "      <td>PinkPantheress</td>\n",
       "      <td>Nice to Know You</td>\n",
       "      <td>170.466</td>\n",
       "    </tr>\n",
       "    <tr>\n",
       "      <th>6554</th>\n",
       "      <td>2025-06-23 21:25:00</td>\n",
       "      <td>PinkPantheress</td>\n",
       "      <td>Nice to Know You</td>\n",
       "      <td>89.480</td>\n",
       "    </tr>\n",
       "  </tbody>\n",
       "</table>\n",
       "</div>"
      ],
      "text/plain": [
       "                End_Time          Artist             Track  Seconds_Played\n",
       "5872 2025-05-15 20:15:00  PinkPantheress  Nice to Know You         169.513\n",
       "5952 2025-05-17 02:36:00  PinkPantheress  Nice to Know You         169.549\n",
       "6520 2025-06-20 22:30:00  PinkPantheress  Nice to Know You         170.466\n",
       "6554 2025-06-23 21:25:00  PinkPantheress  Nice to Know You          89.480"
      ]
     },
     "execution_count": 85,
     "metadata": {},
     "output_type": "execute_result"
    }
   ],
   "source": [
    "df[df['Track'].isin(['Nice to Know You'])]"
   ]
  },
  {
   "cell_type": "code",
   "execution_count": 113,
   "id": "ef70682a-51b5-4f44-8760-06e3203ad828",
   "metadata": {},
   "outputs": [],
   "source": [
    "# Test check for top artists"
   ]
  },
  {
   "cell_type": "code",
   "execution_count": 118,
   "id": "8503c854-e7a5-41df-b1c8-9dea5b03c9f1",
   "metadata": {},
   "outputs": [],
   "source": [
    "top_artists = df.groupby('Artist')['Seconds_Played'].sum().reset_index()"
   ]
  },
  {
   "cell_type": "code",
   "execution_count": 119,
   "id": "d5d29348-d3e7-48d8-80c6-c835fab33699",
   "metadata": {},
   "outputs": [],
   "source": [
    "top_artists['minutesPlayed'] = (top_artists['Seconds_Played'] / 60).round(2)"
   ]
  },
  {
   "cell_type": "code",
   "execution_count": 120,
   "id": "a519a6ce-7359-47db-9d68-e0a5da3d0331",
   "metadata": {},
   "outputs": [],
   "source": [
    "top_artists = top_artists.sort_values(by='Seconds_Played', ascending=False)"
   ]
  },
  {
   "cell_type": "code",
   "execution_count": 121,
   "id": "27ec7127-741f-4545-b28f-c31a6bd84f61",
   "metadata": {},
   "outputs": [
    {
     "name": "stdout",
     "output_type": "stream",
     "text": [
      "              Artist  Seconds_Played  minutesPlayed\n",
      "85              C418       84142.291        1402.37\n",
      "718       Windows 96       60798.967        1013.32\n",
      "199       FM Skyline       42431.621         707.19\n",
      "714         Webinar™       42080.842         701.35\n",
      "617   TEKKEN Project       39170.438         652.84\n",
      "576         Skrillex       37293.637         621.56\n",
      "833        猫 シ Corp.       29993.796         499.90\n",
      "291     Hot Mulligan       27274.760         454.58\n",
      "550  SEGA SOUND TEAM       24794.946         413.25\n",
      "510        Periphery       23787.725         396.46\n"
     ]
    }
   ],
   "source": [
    "print(top_artists.head(10))"
   ]
  },
  {
   "cell_type": "code",
   "execution_count": 102,
   "id": "a89fe2ef-77f3-4caa-8dd1-0661b443a61c",
   "metadata": {},
   "outputs": [],
   "source": [
    "# Test Check for Top Songs"
   ]
  },
  {
   "cell_type": "code",
   "execution_count": 103,
   "id": "ddc48918-dc7d-4724-9610-45adf92c3e3c",
   "metadata": {},
   "outputs": [],
   "source": [
    "top_songs = df.groupby(['Track', 'Artist']).size().reset_index(name='playCount')"
   ]
  },
  {
   "cell_type": "code",
   "execution_count": 104,
   "id": "a554cf40-2e04-48c1-8ee1-6ee5d6f54194",
   "metadata": {},
   "outputs": [],
   "source": [
    "top_songs = top_songs.sort_values(by='playCount', ascending=False)"
   ]
  },
  {
   "cell_type": "code",
   "execution_count": 105,
   "id": "16771580-6cc0-460c-aa71-22963b6583a7",
   "metadata": {},
   "outputs": [
    {
     "name": "stdout",
     "output_type": "stream",
     "text": [
      "                            Track          Artist  playCount\n",
      "683              Equator Line 1st  TEKKEN Project         33\n",
      "684              Equator Line 2nd  TEKKEN Project         30\n",
      "1807                     SPITFIRE        Skrillex         28\n",
      "1803             SKRILLEX IS DEAD        Skrillex         27\n",
      "586                      Dojo 2nd  TEKKEN Project         26\n",
      "2387  WHILE YOU WERE SLEEPING VIP        Skrillex         25\n",
      "584                      Dojo 1st  TEKKEN Project         23\n",
      "624        Droopy Likes Your Face            C418         22\n",
      "1805                     SLICKMAN        Skrillex         22\n",
      "2043            Subwoofer Lullaby            C418         21\n"
     ]
    }
   ],
   "source": [
    "print(top_songs.head(10))"
   ]
  },
  {
   "cell_type": "code",
   "execution_count": null,
   "id": "7471e8db-9a91-4859-9ea2-872ab0c320ce",
   "metadata": {},
   "outputs": [],
   "source": []
  }
 ],
 "metadata": {
  "kernelspec": {
   "display_name": "Python 3 (ipykernel)",
   "language": "python",
   "name": "python3"
  },
  "language_info": {
   "codemirror_mode": {
    "name": "ipython",
    "version": 3
   },
   "file_extension": ".py",
   "mimetype": "text/x-python",
   "name": "python",
   "nbconvert_exporter": "python",
   "pygments_lexer": "ipython3",
   "version": "3.13.3"
  }
 },
 "nbformat": 4,
 "nbformat_minor": 5
}
